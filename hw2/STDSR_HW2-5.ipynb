{
  "nbformat": 4,
  "nbformat_minor": 0,
  "metadata": {
    "colab": {
      "name": "STDSR-HW2.ipynb",
      "provenance": [],
      "collapsed_sections": []
    },
    "kernelspec": {
      "name": "python3",
      "display_name": "Python 3"
    },
    "language_info": {
      "name": "python"
    }
  },
  "cells": [
    {
      "cell_type": "markdown",
      "source": [
        "##Polina Turishcheva  \n",
        "##STDS&R - Assigment 2   \n",
        "##April 2022  "
      ],
      "metadata": {
        "id": "eVrwXrkMtQNo"
      }
    },
    {
      "cell_type": "markdown",
      "source": [
        "##Task 1  \n",
        "$Y$ - random variable, number of samples with Giardia. $\\theta$ is given. For a single sample $X$ it is a Bernoulli trial because either there is cyst in a sample or not, $\\theta$ is the probability that a probe has a cyst. In our case, $Y$ is a random variable for a number of samples with cysts, so $Y = X_1 + X_2 ... X_n$, which is by definition Binomial distribution. Therefore, distribution $(X | \\theta)$ ~ Binomial(n, $\\theta$) $→$ $P(X = x | \\theta, n) = C^x_n \\theta^x (1 - \\theta)^{n - x}$. "
      ],
      "metadata": {
        "id": "qlaorBfQtai-"
      }
    },
    {
      "cell_type": "markdown",
      "source": [
        "##Task 2  \n",
        "Given $E[\\theta] = 0.2$ and $\\sqrt(Var[\\theta])= 0.16$. $Y$ ~ $Beta(\\alpha, \\beta)$.    \n",
        "Solution:   \n",
        "$E[\\theta] = \\frac{\\alpha}{\\alpha + \\beta}=0.2$ $→$ $0.8α = 0.2 \\beta$  $→$ $4α = \\beta$     \n",
        "\n",
        "$Var[\\theta]= \\frac{\\alpha \\beta}{(\\alpha + \\beta)^2(\\alpha + \\beta + 1)}=\\frac{4}{25(5α + 1)}=0.0256$ $→$ $3.2α =3.36$ $→$ $α =1.05 ≈ 1$ and $\\beta =4.20 ≈ 4$ "
      ],
      "metadata": {
        "id": "ytIXCRSJtc2X"
      }
    },
    {
      "cell_type": "markdown",
      "source": [
        "##Task 3 \n",
        "  \n",
        "\n",
        "Posterior = $\\frac{\\text{Likelihood} * \\text{Prior}}{\\text{Marginal likelihood}}$   \n",
        "In our case, the prior is given from task 2: prior ~ $Beta(1, 4)$. Probability distribution function for $Beta(α, β)$ distribution is $f(\\theta) = \\frac{Г(α+ β)}{Г(α)Г(β)} \\theta^{α - 1}(1-\\theta)^{β - 1}$   \n",
        "Likelihood is by definition $p(x | \\theta, n) = C^x_n \\theta^x (1 - \\theta)^{n - x}$ (as defined in Task 1)   \n",
        "Marginal likelihood is probability that $x$ takes a specific value with all possible values of $\\theta$, so, in fact, it is a normallization constant. By definition marginal likelihood is $p(X=x|n) = \\int^1_0 p(x=17 | n=116, \\theta) p(\\theta) d \\theta = \\int^1_0 p(x=17 | n=116, \\theta) d \\theta$ because in our case $\\theta$ is ~ $Uniform(0,1)$. $→$ $ p(X=x|n) = \\int^1_0 C^x_n \\theta^x (1 - \\theta)^{n - x} d \\theta$. \n",
        "$$Posterior(\\theta | x, n) = \\frac{\\text{Likelihood} * \\text{Prior}}{\\text{Marginal likelihood}} = \\frac{C^{x}_{n} \\theta^{x} (1 - \\theta)^{n - x}  \\theta^{α} (1 - \\theta)^{\\beta - 1}}{C^{x}_{n} \\int^1_0 \\theta^{x} (1 - \\theta)^{n-x} d \\theta B(α,\\beta)} = \\frac{ \\theta^{x + α - 1} (1 - \\theta)^{n - x + \\beta -1}  }{ B(x + 1,n - x + 1) B(α,\\beta)} $$    \n",
        "where $B(x, y) = \\int_0^1 t^{(x - 1)} (1-t)^{(y-1)}dt = \\frac{Г(x)Г(y)}{Г(x + y)}$ is the beta function. As $x$ and $n$ are constants and $α$ and $\\beta$ are also constants defined by $x$ and $n$, and complete $B(α, \\beta)$ is a constant as well, hence, $B(x + 1,n - x + 1) * B(α,\\beta) = const$.  \n",
        "Hence, Posterior$(\\theta | x, n) = \\frac{ \\theta^{x + α - 1} (1 - \\theta)^{n - x + \\beta -1}  }{const}$. Again, as $x$ and $n$ are constants, I may use $α' = x + α$ and $\\beta'= n - x + \\beta$ rewrite it as Posterior$(\\theta | x, n) = \\frac{ \\theta^{α' - 1} (1 - \\theta)^{ \\beta' -1}  }{const}$ and we may see that our Posterior$(\\theta | x, n)$ ~ $Beta(α', \\beta') = Beta(x + α, n - x + \\beta)$\n",
        "\n",
        "\n",
        "In our case, $x = 17$ and $n=116$ $→$ Posterior ~ $Beta(x + α, n - x + \\beta) = Beta(18, 103)$  \n",
        "\n",
        "$E[Beta(18, 103)] = \\frac{α}{α+β}= \\frac{18}{18+103} = 0.149$   \n",
        "$Std[Beta(18, 103)] = \\sqrt{\\frac{αβ}{(α+β)^2(α+β+1)}}=\\sqrt{\\frac{18*103}{121^2 *122}} = 0.032$"
      ],
      "metadata": {
        "id": "k1xDOLeutijq"
      }
    },
    {
      "cell_type": "code",
      "source": [
        "import numpy as np\n",
        "from scipy.special import comb, beta\n",
        "from scipy import stats\n",
        "import matplotlib.pyplot as plt"
      ],
      "metadata": {
        "id": "uxkt9w2ftpkY"
      },
      "execution_count": 32,
      "outputs": []
    },
    {
      "cell_type": "code",
      "source": [
        "print(18 / 121)\n",
        "print(np.sqrt(18 * 103 / 122) / 121)"
      ],
      "metadata": {
        "colab": {
          "base_uri": "https://localhost:8080/"
        },
        "id": "dKXeFvj_Nr29",
        "outputId": "e482be66-667f-4e4d-d3fe-7086e911c428"
      },
      "execution_count": 33,
      "outputs": [
        {
          "output_type": "stream",
          "name": "stdout",
          "text": [
            "0.1487603305785124\n",
            "0.03221733249847173\n"
          ]
        }
      ]
    },
    {
      "cell_type": "markdown",
      "source": [
        "##Task 4"
      ],
      "metadata": {
        "id": "c1XV391LtimV"
      }
    },
    {
      "cell_type": "markdown",
      "source": [
        "From task 3 we know that posterior is $p(\\theta|X)$ ~ $Beta(18, 103)$ and likelihood is $p(X|\\theta)$ ~ $C^k_n \\theta^{17} (1 - \\theta)^{99}$. To make the likelihood normalized we should make it to sum to one, hence, to divide to the normalizing constant, which is the value of the integral for all possible values of $\\theta$. Therefore, the normalzing constant is $c = \\int^1_0 C^k_n \\theta^{17} (1 - \\theta)^{99} d \\theta = \\frac{1}{117}$"
      ],
      "metadata": {
        "id": "qwNm1nlo_2LR"
      }
    },
    {
      "cell_type": "code",
      "source": [
        "x = np.linspace(0, 1, 1000)\n",
        "prior = stats.beta(1, 4).pdf(x)\n",
        "posterior = stats.beta(18, 103).pdf(x)\n",
        "norm_constant =  1 / 117\n",
        "normalized = stats.binom.pmf(17, 116, x) / norm_constant"
      ],
      "metadata": {
        "id": "CMRzy4TQtk7_"
      },
      "execution_count": 34,
      "outputs": []
    },
    {
      "cell_type": "code",
      "source": [
        "plt.figure(figsize=(10,6))\n",
        "plt.plot(x, prior, label='prior')\n",
        "plt.plot(x, posterior, label='posterior')\n",
        "plt.plot(x, normalized, label='likelihood')\n",
        "plt.legend()\n",
        "plt.xlabel('theta')\n",
        "plt.ylabel('probability density')\n",
        "plt.grid(True)"
      ],
      "metadata": {
        "colab": {
          "base_uri": "https://localhost:8080/",
          "height": 388
        },
        "id": "J669_cOnyXpS",
        "outputId": "bcb09651-b8dd-4124-9cbb-30a0e97d129b"
      },
      "execution_count": 41,
      "outputs": [
        {
          "output_type": "display_data",
          "data": {
            "text/plain": [
              "<Figure size 720x432 with 1 Axes>"
            ],
            "image/png": "[encoded data removed]"
          },
          "metadata": {
            "needs_background": "light"
          }
        }
      ]
    },
    {
      "cell_type": "markdown",
      "source": [
        "##Task 5  \n",
        "In task 3, I showed that posterior probability for $P(\\theta| x = 17)$ ~ $Beta(18, 103)$. As $P(X < x) = cdf_X(x) = \\int_{-∞}^x pdf_X dx$, hence, $P(\\theta < 0.1| x = 17) = \\frac{1}{B(18,103)}\\int_0^{0.1}x^{17}(1-x)^{102}dx$, where $B(18,103) = \\int_0^1x^{17}(1-x)^{102}dx$. \n",
        "\n",
        "$x = 17$ here influenced the values of $\\alpha$ and $\\beta$ for the $Beta(α, \\beta)$ distribution. \n"
      ],
      "metadata": {
        "id": "3am40tpptio7"
      }
    },
    {
      "cell_type": "code",
      "source": [
        "stats.beta(18, 103).cdf(0.1)"
      ],
      "metadata": {
        "colab": {
          "base_uri": "https://localhost:8080/"
        },
        "id": "eBltkdY2uBCD",
        "outputId": "d79ecd17-cd66-4cdd-aadb-d12c7563365b"
      },
      "execution_count": 36,
      "outputs": [
        {
          "output_type": "execute_result",
          "data": {
            "text/plain": [
              "0.05309437699304309"
            ]
          },
          "metadata": {},
          "execution_count": 36
        }
      ]
    },
    {
      "cell_type": "markdown",
      "source": [
        "##Task 6\n",
        "To find a confidence interval with percentage $p$ we do the following steps:\n",
        "1. $α = 1 - p$, in our case $α = 1 - 0.95 = 0.05$\n",
        "2. The left border of the interval :  $F_{θ|X}(θ_{α/2}) = α/2$. In our case, $F_{θ|X}(θ_{0.025}) = 0.025$, where $F$ is the cummulative distribution function for beta distribution.\n",
        "3. The right border of the interval :  $F_{θ|X}(θ_{1 - α/2}) = 1 - α/2$. In our case, $F_{θ|X}(θ_{0.975}) = 0.975$\n",
        "\n",
        "Luckily, python has those calculation steps already implemented:\n"
      ],
      "metadata": {
        "id": "pfmyapFptirl"
      }
    },
    {
      "cell_type": "code",
      "source": [
        "stats.beta(18, 103).interval(alpha=0.95)"
      ],
      "metadata": {
        "colab": {
          "base_uri": "https://localhost:8080/"
        },
        "id": "lW2DbdRPwgnc",
        "outputId": "8576e058-feaa-4ac7-af77-2392ca33ebfc"
      },
      "execution_count": 37,
      "outputs": [
        {
          "output_type": "execute_result",
          "data": {
            "text/plain": [
              "(0.09138957252822995, 0.21710689824337648)"
            ]
          },
          "metadata": {},
          "execution_count": 37
        }
      ]
    },
    {
      "cell_type": "markdown",
      "source": [
        "##Task 7   \n",
        "$n^* = 50$. Find posterior predictive probability $x^* = 5$ ($x$ is the probes with Giardia cysts).\n",
        "\n",
        "Solution:  \n",
        "By definition, posterior predictive distribution is $p(x^*|x) = ∫_{\\theta} p(x^* |x, \\theta) p(\\theta|x) d\\theta$. Hence, in our case $\\theta \\in [0,1]$ as it is a probability of success from the binomial distribution, $p(x^* |x, \\theta) = C^{x^*}_{n^*} \\theta^{x^*} (1-\\theta)^{n^* - x^*}$, and $p(\\theta|x) = f(\\theta|x)$.   \n",
        "Previously we found out that $f(\\theta|x) ≈ Beta(18,103) = Beta(α',β') = Beta(α + x, β + n - x)$, where $n$ is the number of samples and $x$ is the number of success cases. Probability distributiion function for $Beta(α', β')$ distribution is $$f(\\theta) = \\frac{Г(α' + β')}{Г(α')Г(β')} \\theta^{α' - 1}(1-\\theta)^{β' - 1}$$ Substituting $α' = α + x$ and $β'= β + n - x$ we get $$f(\\theta) = \\frac{Г(α + β + n)}{Г(α + x)Г(β +n - x)} \\theta^{α + x - 1}(1-\\theta)^{β + n - x - 1}$$\n",
        "Therefore, the general formula is $$p(x^*|x) = ∫_0^1 C^{x^*}_{n^*} \\theta^{x^*} (1-\\theta)^{n^* - x^*} \\frac{Г(α + β + n)}{Г(α + x)Г(β +n - x)} \\theta^{α + x - 1}(1-\\theta)^{β + n - x - 1} d\\theta$$\n",
        "To make it a bit simpler\n",
        "\n",
        "$$p(x^*|x) = C^{x^*}_{n^*} \\frac{Г(α + β + n)}{Г(α + x)Г(β +n - x)}  ∫_0^1  \\theta^{x^* + α + x - 1} (1-\\theta)^{n^* - x^* + β + n - x - 1} d\\theta = $$\n",
        "$$= C^{x^*}_{n^*} \\frac{Г(α + β + n)}{Г(α + x)Г(β +n - x)} B(x^* + α + x, n^* - x^* + β + n - x)$$ \n",
        "where $B(x, y) = \\int_0^1 t^{(x - 1)} (1-t)^{(y-1)}dt = \\frac{Г(x)Г(y)}{Г(x + y)}$ is the beta function.   \n",
        "\n",
        "In our case, $α = 1, β=4, n^* = 50, n = 116, x= 17, x^*=5 →$\n",
        "$p(x^*|x) = C^{5}_{50} \\frac{Г(121)}{Г(18)Г(103)} B(23, 148) =  C^{5}_{50} \\frac{B(23, 148)}{B(18, 103)}$\n",
        "\n"
      ],
      "metadata": {
        "id": "C7sLX985to8C"
      }
    },
    {
      "cell_type": "code",
      "source": [
        "beta(23,148) * comb(50, 5) / beta(18,103)"
      ],
      "metadata": {
        "colab": {
          "base_uri": "https://localhost:8080/"
        },
        "id": "GKETd53J0lQV",
        "outputId": "69a86c54-e425-4f26-866a-a20a112bb4c9"
      },
      "execution_count": 38,
      "outputs": [
        {
          "output_type": "execute_result",
          "data": {
            "text/plain": [
              "0.11087168880461985"
            ]
          },
          "metadata": {},
          "execution_count": 38
        }
      ]
    },
    {
      "cell_type": "markdown",
      "source": [
        "##Task 8    \n",
        "\n",
        "$H_0 : \\theta ≥ 0.2$   \n",
        "$H_1: \\theta<0.2$   \n",
        "\n",
        "\n",
        "Solution:  \n",
        "I used binomial test:  \n",
        "$ P (x \\leq 17|\\theta = 0.2) = \\sum_{i = 0}^{17} C^{i}_{n}\\theta^i (1-\\theta)^{n-i}$"
      ],
      "metadata": {
        "id": "Fs2EYWF8to-k"
      }
    },
    {
      "cell_type": "code",
      "source": [
        "res = 0\n",
        "n = 116\n",
        "theta = 0.2\n",
        "for i in range(18):\n",
        "  res += comb(n, i) * (theta ** i) * ((1 - theta) ** (n - i))\n",
        "res"
      ],
      "metadata": {
        "colab": {
          "base_uri": "https://localhost:8080/"
        },
        "id": "E8bIEUKjJY08",
        "outputId": "8b0f015a-d12f-4c29-8e4a-8a38c0dc1880"
      },
      "execution_count": 39,
      "outputs": [
        {
          "output_type": "execute_result",
          "data": {
            "text/plain": [
              "0.08947619410317205"
            ]
          },
          "metadata": {},
          "execution_count": 39
        }
      ]
    },
    {
      "cell_type": "markdown",
      "source": [
        "$ P (x \\leq 17|\\theta = 0.2) ≈ 0.0895$. The classical significance level is 5%, hence, I also use it. As 0.0895 is more than $0.05$ I cannot reject the null hypothesis here."
      ],
      "metadata": {
        "id": "5bP_pkZAJstl"
      }
    },
    {
      "cell_type": "markdown",
      "source": [
        "##Task 9  \n",
        "In Bayesian manner:  \n",
        "$H_0 : \\theta ≥ 0.2$   \n",
        "$H_1: \\theta<0.2$  \n",
        "\n",
        "Solution:  \n",
        "In Bayesian manner, the posterior probability of $\\theta$ to be above 0.2.  \n",
        "$ P (\\theta \\geq 0.2|x = 17) =  1 - P (\\theta \\leq 0.2|x = 17)  = 1 - \\int^{0.2}_0 \\theta^{α -1} (1-\\theta)^{β -1 } d\\theta = 1 - \\int^{0.2}_0 \\theta^{17} (1- \\theta )^{102 }d\\theta$, where again $P (\\theta \\leq 0.2|x = 17)$ is in fact counted from the beta distribution cdf."
      ],
      "metadata": {
        "id": "k6jxtdLftpBb"
      }
    },
    {
      "cell_type": "code",
      "source": [
        "1 - stats.beta(18, 103).cdf(0.2)"
      ],
      "metadata": {
        "colab": {
          "base_uri": "https://localhost:8080/"
        },
        "id": "nZBapsIGKQfQ",
        "outputId": "d27fe1e2-a16f-4a87-9034-a5573f9d3738"
      },
      "execution_count": 40,
      "outputs": [
        {
          "output_type": "execute_result",
          "data": {
            "text/plain": [
              "0.06472685723749172"
            ]
          },
          "metadata": {},
          "execution_count": 40
        }
      ]
    },
    {
      "cell_type": "markdown",
      "source": [
        "$P (\\theta \\geq 0.2|x = 17) = 0.0647$ which is again more than $0.05$, hence, even while with Bayesian approach the probility that $\\theta \\geq 0.2$ is less, I still cannot reject the null hypothesis."
      ],
      "metadata": {
        "id": "lRIUVFYQMnvi"
      }
    }
  ]
}